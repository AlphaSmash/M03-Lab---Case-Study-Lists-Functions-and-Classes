{
 "cells": [
  {
   "cell_type": "code",
   "execution_count": 1,
   "id": "e6ff29b8",
   "metadata": {},
   "outputs": [
    {
     "name": "stdout",
     "output_type": "stream",
     "text": [
      "Is your vehicle a car, truck, plane, boat, or a broomstick.Car\n",
      "What is the year of your vehicle? 2022\n",
      "What is the make of your vehicle? Toyota\n",
      "What is the model of your vehicle? Corolla\n",
      "What is the number of doors of your vehicle? 4\n",
      "What is the type of roof of your vehicle? sun roof\n",
      "Vehicle type: Car\n",
      "Year: 2022\n",
      "Make: Toyota\n",
      "Model: Corolla\n",
      "Number of doors: 4\n",
      "Type of roof: sun roof\n"
     ]
    }
   ],
   "source": [
    "class vehicle():\n",
    "    def __init__(self, name):\n",
    "        self.name = name\n",
    "vehicle_type = input(\"Is your vehicle a car, truck, plane, boat, or a broomstick.\")\n",
    "user_car = vehicle(vehicle_type)\n",
    "\n",
    "class automobile():\n",
    "    def __init__(self, name):\n",
    "        self.name = name\n",
    "vehicle_year = input(\"What is the year of your vehicle? \")\n",
    "vehicle_make = input(\"What is the make of your vehicle? \")\n",
    "vehicle_model = input(\"What is the model of your vehicle? \")\n",
    "vehicle_doors = input(\"What is the number of doors of your vehicle? \")\n",
    "vehicle_roof = input(\"What is the type of roof of your vehicle? \")\n",
    "user_year = automobile(vehicle_year)\n",
    "user_make = automobile(vehicle_make)\n",
    "user_model = automobile(vehicle_model)\n",
    "user_doors = automobile(vehicle_doors)\n",
    "user_roof = automobile(vehicle_roof)\n",
    "print(\"Vehicle type:\", user_car.name)\n",
    "print(\"Year:\", user_year.name)\n",
    "print(\"Make:\", user_make.name)\n",
    "print(\"Model:\", user_model.name)\n",
    "print(\"Number of doors:\", user_doors.name)\n",
    "print(\"Type of roof:\", user_roof.name)"
   ]
  }
 ],
 "metadata": {
  "kernelspec": {
   "display_name": "Python 3 (ipykernel)",
   "language": "python",
   "name": "python3"
  },
  "language_info": {
   "codemirror_mode": {
    "name": "ipython",
    "version": 3
   },
   "file_extension": ".py",
   "mimetype": "text/x-python",
   "name": "python",
   "nbconvert_exporter": "python",
   "pygments_lexer": "ipython3",
   "version": "3.11.5"
  }
 },
 "nbformat": 4,
 "nbformat_minor": 5
}
